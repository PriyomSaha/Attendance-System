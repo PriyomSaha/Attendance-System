{
 "cells": [
  {
   "cell_type": "code",
   "execution_count": null,
   "metadata": {},
   "outputs": [],
   "source": [
    "import pyautogui as pg\n",
    "import time"
   ]
  },
  {
   "cell_type": "code",
   "execution_count": null,
   "metadata": {},
   "outputs": [],
   "source": [
    "# Random SC\n",
    "imagePath = \"E:\\\\refined datasets\\\\Aaron Paul\\\\\"\n",
    "x=150\n",
    "while x<=(150):\n",
    "    time.sleep(1)\n",
    "    pg.screenshot(\"{}\\\\{}.jpg\".format(imagePath,x))\n",
    "    x+=1"
   ]
  },
  {
   "cell_type": "code",
   "execution_count": null,
   "metadata": {},
   "outputs": [],
   "source": [
    "#  on screen detect and save"
   ]
  },
  {
   "cell_type": "code",
   "execution_count": 2,
   "metadata": {},
   "outputs": [],
   "source": [
    "import cv2\n",
    "import sys\n",
    "import os\n",
    "import numpy as np\n",
    "import matplotlib.pyplot as plt\n",
    "from PIL import ImageGrab\n",
    "import time"
   ]
  },
  {
   "cell_type": "code",
   "execution_count": 49,
   "metadata": {},
   "outputs": [],
   "source": [
    "imagePath = \"E:\\\\refined datasets\\\\Julian Treasure\\\\\"\n",
    "cascPath = \"D:\\\\python\\\\Attendance_system_4th_year\\\\image\\\\haarcascade_frontalface_default.xml\"\n",
    "\n",
    "# This creates the cascade classifcation from file \n",
    "\n",
    "faceCascade = cv2.CascadeClassifier(cascPath)"
   ]
  },
  {
   "cell_type": "code",
   "execution_count": 50,
   "metadata": {},
   "outputs": [
    {
     "data": {
      "text/plain": [
       "'D:\\\\python\\\\Attendance_system_4th_year\\\\image'"
      ]
     },
     "execution_count": 50,
     "metadata": {},
     "output_type": "execute_result"
    }
   ],
   "source": [
    "os.getcwd()"
   ]
  },
  {
   "cell_type": "code",
   "execution_count": 51,
   "metadata": {},
   "outputs": [
    {
     "name": "stdout",
     "output_type": "stream",
     "text": [
      "done\n"
     ]
    }
   ],
   "source": [
    "# for i in range(0,5):\n",
    "#     time.sleep(1)\n",
    "# if not os.path.exists(imagePath+\"\\\\test\"):\n",
    "#     os.mkdir(imagePath+\"\\\\test\")\n",
    "c =1\n",
    "while c <=3500:\n",
    "    image = ImageGrab.grab(bbox=(0,0,800,600))\n",
    "    image = np.array(image)\n",
    "    gray = cv2.cvtColor(image, cv2.COLOR_BGR2RGB)\n",
    "    \n",
    "    faces = faceCascade.detectMultiScale(\n",
    "        gray,\n",
    "        scaleFactor=1.1,\n",
    "        minNeighbors=5,\n",
    "        minSize=(1,1),\n",
    "        flags = cv2.CASCADE_SCALE_IMAGE\n",
    "    )\n",
    "    \n",
    "    \n",
    "    for (x, y, w, h) in faces:\n",
    "        #cv2.rectangle(image, (x, y), (x+w, y+h), (0, 255, 0), 2)\n",
    "        im = gray[y:y+h, x:x+w]\n",
    "        #plt.imshow(cv2.cvtColor(im, cv2.COLOR_BGR2RGB))\n",
    "        #plt.show()\n",
    "        cv2.imwrite(\"{}{}.jpg\".format(imagePath,c), im)\n",
    "        c+=1\n",
    "print(\"done\")\n",
    "    #cv2.resize(image, (960, 540)) \n",
    "    \n"
   ]
  },
  {
   "cell_type": "code",
   "execution_count": null,
   "metadata": {},
   "outputs": [],
   "source": []
  },
  {
   "cell_type": "code",
   "execution_count": null,
   "metadata": {},
   "outputs": [],
   "source": []
  }
 ],
 "metadata": {
  "kernelspec": {
   "display_name": "Python [conda env:Tensorflow] *",
   "language": "python",
   "name": "conda-env-Tensorflow-py"
  },
  "language_info": {
   "codemirror_mode": {
    "name": "ipython",
    "version": 3
   },
   "file_extension": ".py",
   "mimetype": "text/x-python",
   "name": "python",
   "nbconvert_exporter": "python",
   "pygments_lexer": "ipython3",
   "version": "3.7.4"
  }
 },
 "nbformat": 4,
 "nbformat_minor": 2
}
